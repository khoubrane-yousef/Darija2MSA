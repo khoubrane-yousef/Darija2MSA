{
  "cells": [
    {
      "cell_type": "code",
      "execution_count": 1,
      "metadata": {
        "id": "saL3CT3KwXgo"
      },
      "outputs": [],
      "source": [
        "import pandas as pd\n",
        "import torch"
      ]
    },
    {
      "cell_type": "code",
      "execution_count": null,
      "metadata": {
        "id": "6vKYlp3-8Zfp"
      },
      "outputs": [],
      "source": [
        "device = torch.device(\"cuda\" if torch.cuda.is_available() else \"cpu\")"
      ]
    },
    {
      "cell_type": "code",
      "execution_count": 2,
      "metadata": {
        "colab": {
          "base_uri": "https://localhost:8080/",
          "height": 424
        },
        "id": "vlfSn-g-vk9E",
        "outputId": "d040fc63-d936-45e8-dbe8-cf66f9d5d8b7"
      },
      "outputs": [
        {
          "data": {
            "text/html": [
              "<div>\n",
              "<style scoped>\n",
              "    .dataframe tbody tr th:only-of-type {\n",
              "        vertical-align: middle;\n",
              "    }\n",
              "\n",
              "    .dataframe tbody tr th {\n",
              "        vertical-align: top;\n",
              "    }\n",
              "\n",
              "    .dataframe thead th {\n",
              "        text-align: right;\n",
              "    }\n",
              "</style>\n",
              "<table border=\"1\" class=\"dataframe\">\n",
              "  <thead>\n",
              "    <tr style=\"text-align: right;\">\n",
              "      <th></th>\n",
              "      <th>Darija</th>\n",
              "      <th>English</th>\n",
              "    </tr>\n",
              "  </thead>\n",
              "  <tbody>\n",
              "    <tr>\n",
              "      <th>0</th>\n",
              "      <td>واخا عندي السخانة والتهاب الحلق، ولكن حاس بالل...</td>\n",
              "      <td>\"Apart from the fever and a sore throat, I fee...</td>\n",
              "    </tr>\n",
              "    <tr>\n",
              "      <th>1</th>\n",
              "      <td>الاستناد لهاذ الحفرية كيعني أن الانشقاق وقع بك...</td>\n",
              "      <td>\"Based on this fossil, that means the split is...</td>\n",
              "    </tr>\n",
              "    <tr>\n",
              "      <th>2</th>\n",
              "      <td>وقال السيد كوستيلو: \"يلا ولات القضية تجارية، خ...</td>\n",
              "      <td>\"If it becomes commercial, we should have it. ...</td>\n",
              "    </tr>\n",
              "    <tr>\n",
              "      <th>3</th>\n",
              "      <td>قال المتحدث باسم الحكومة: \"من المهم دابا سواءً...</td>\n",
              "      <td>\"It is now important from both a public health...</td>\n",
              "    </tr>\n",
              "    <tr>\n",
              "      <th>4</th>\n",
              "      <td>غادير لحال سلوك دالما. هي شفافة تماما بحال الما.</td>\n",
              "      <td>\"It's going to behave like water. It's transpa...</td>\n",
              "    </tr>\n",
              "    <tr>\n",
              "      <th>...</th>\n",
              "      <td>...</td>\n",
              "      <td>...</td>\n",
              "    </tr>\n",
              "    <tr>\n",
              "      <th>6022</th>\n",
              "      <td>الشركة نتاع التيليفون لمحلية ديالك خاصها تعطيك...</td>\n",
              "      <td>Your local telephone service provider should b...</td>\n",
              "    </tr>\n",
              "    <tr>\n",
              "      <th>6023</th>\n",
              "      <td>يقدم الغار نفسه، اللي بقي على مر العصور، صورة ...</td>\n",
              "      <td>he cave itself, which survived the times, give...</td>\n",
              "    </tr>\n",
              "    <tr>\n",
              "      <th>6024</th>\n",
              "      <td>فأواخر العصور الوسطى، بدات أوروبّا كتطور فراسه...</td>\n",
              "      <td>towards the end of the Middle Ages western Eur...</td>\n",
              "    </tr>\n",
              "    <tr>\n",
              "      <th>6025</th>\n",
              "      <td>إيزمير هي ثالث أكبر مدينة فتركيا بعدد سكان تيو...</td>\n",
              "      <td>İzmir is the third largest city in Turkey with...</td>\n",
              "    </tr>\n",
              "    <tr>\n",
              "      <th>6026</th>\n",
              "      <td>إيغمي و مككورد (1998) عرفو \"المشاركة الشخصية\" ...</td>\n",
              "      <td>“Personal involvement” and “continuing relatio...</td>\n",
              "    </tr>\n",
              "  </tbody>\n",
              "</table>\n",
              "<p>6027 rows × 2 columns</p>\n",
              "</div>"
            ],
            "text/plain": [
              "                                                 Darija  \\\n",
              "0     واخا عندي السخانة والتهاب الحلق، ولكن حاس بالل...   \n",
              "1     الاستناد لهاذ الحفرية كيعني أن الانشقاق وقع بك...   \n",
              "2     وقال السيد كوستيلو: \"يلا ولات القضية تجارية، خ...   \n",
              "3     قال المتحدث باسم الحكومة: \"من المهم دابا سواءً...   \n",
              "4      غادير لحال سلوك دالما. هي شفافة تماما بحال الما.   \n",
              "...                                                 ...   \n",
              "6022  الشركة نتاع التيليفون لمحلية ديالك خاصها تعطيك...   \n",
              "6023  يقدم الغار نفسه، اللي بقي على مر العصور، صورة ...   \n",
              "6024  فأواخر العصور الوسطى، بدات أوروبّا كتطور فراسه...   \n",
              "6025  إيزمير هي ثالث أكبر مدينة فتركيا بعدد سكان تيو...   \n",
              "6026  إيغمي و مككورد (1998) عرفو \"المشاركة الشخصية\" ...   \n",
              "\n",
              "                                                English  \n",
              "0     \"Apart from the fever and a sore throat, I fee...  \n",
              "1     \"Based on this fossil, that means the split is...  \n",
              "2     \"If it becomes commercial, we should have it. ...  \n",
              "3     \"It is now important from both a public health...  \n",
              "4     \"It's going to behave like water. It's transpa...  \n",
              "...                                                 ...  \n",
              "6022  Your local telephone service provider should b...  \n",
              "6023  he cave itself, which survived the times, give...  \n",
              "6024  towards the end of the Middle Ages western Eur...  \n",
              "6025  İzmir is the third largest city in Turkey with...  \n",
              "6026  “Personal involvement” and “continuing relatio...  \n",
              "\n",
              "[6027 rows x 2 columns]"
            ]
          },
          "execution_count": 2,
          "metadata": {},
          "output_type": "execute_result"
        }
      ],
      "source": [
        "dataset = pd.read_csv('datasets/DarijaEnglish.csv')\n",
        "dataset"
      ]
    },
    {
      "cell_type": "code",
      "execution_count": null,
      "metadata": {
        "id": "ZrYguwOlzSbI"
      },
      "outputs": [],
      "source": [
        "%%capture\n",
        "\n",
        "!pip install fairseq2\n",
        "!pip install pydub sentencepiece\n",
        "!pip install git+https://github.com/facebookresearch/seamless_communication.git"
      ]
    },
    {
      "cell_type": "code",
      "execution_count": null,
      "metadata": {
        "colab": {
          "base_uri": "https://localhost:8080/"
        },
        "id": "FSghWY221i8Z",
        "outputId": "523cb5fc-789d-4c98-c271-c78d80660ffd"
      },
      "outputs": [
        {
          "name": "stderr",
          "output_type": "stream",
          "text": [
            "Downloading the checkpoint of seamlessM4T_v2_large...\n",
            "100%|██████████| 8.45G/8.45G [01:36<00:00, 93.7MB/s]\n",
            "Downloading the tokenizer of seamlessM4T_v2_large...\n",
            "100%|██████████| 360k/360k [00:00<00:00, 10.1MB/s]\n",
            "Downloading the tokenizer of seamlessM4T_v2_large...\n",
            "100%|██████████| 4.93M/4.93M [00:00<00:00, 66.6MB/s]\n",
            "Using the cached tokenizer of seamlessM4T_v2_large. Set `force` to `True` to download again.\n"
          ]
        }
      ],
      "source": [
        "# Initialize a Translator object with a multitask model, vocoder on the GPU.\n",
        "\n",
        "from seamless_communication.inference import Translator\n",
        "\n",
        "model_name = \"seamlessM4T_v2_large\"\n",
        "\n",
        "translator = Translator(\n",
        "    model_name,\n",
        "    None,\n",
        "    device=device,\n",
        "    dtype=torch.float16,\n",
        ")"
      ]
    },
    {
      "cell_type": "code",
      "execution_count": null,
      "metadata": {
        "id": "1hwlaoRc8gRw"
      },
      "outputs": [],
      "source": [
        "def english_to_msa(english_sentence):\n",
        "  text_output, _ = translator.predict(\n",
        "      input=english_sentence,\n",
        "      task_str=\"t2tt\",\n",
        "      tgt_lang='arb',\n",
        "      src_lang=\"eng\",\n",
        "  )\n",
        "\n",
        "  return str(text_output[0])"
      ]
    },
    {
      "cell_type": "code",
      "execution_count": null,
      "metadata": {
        "colab": {
          "base_uri": "https://localhost:8080/"
        },
        "id": "BVKyehWmyUt8",
        "outputId": "9538c33a-e7a7-489d-cf5e-2025c937789a"
      },
      "outputs": [
        {
          "name": "stderr",
          "output_type": "stream",
          "text": [
            "100%|██████████| 6027/6027 [1:33:20<00:00,  1.08it/s]\n"
          ]
        }
      ],
      "source": [
        "from tqdm import tqdm\n",
        "MSA_translations = []\n",
        "for i in tqdm(range(dataset.shape[0])):\n",
        "  MSA_translations.append(english_to_msa(dataset.loc[i].English))"
      ]
    },
    {
      "cell_type": "code",
      "execution_count": null,
      "metadata": {
        "id": "FVW5-OiBE1ir"
      },
      "outputs": [],
      "source": [
        "dataset['MSA'] = MSA_translations\n",
        "dataset.to_csv('datasets/Augmented_dataset.csv', index=False)"
      ]
    },
    {
      "cell_type": "code",
      "execution_count": 3,
      "metadata": {
        "colab": {
          "base_uri": "https://localhost:8080/",
          "height": 175
        },
        "id": "oFRvO2NfFZe8",
        "outputId": "38f9d930-af7b-4338-f940-c571d74061f2"
      },
      "outputs": [
        {
          "data": {
            "text/html": [
              "<div>\n",
              "<style scoped>\n",
              "    .dataframe tbody tr th:only-of-type {\n",
              "        vertical-align: middle;\n",
              "    }\n",
              "\n",
              "    .dataframe tbody tr th {\n",
              "        vertical-align: top;\n",
              "    }\n",
              "\n",
              "    .dataframe thead th {\n",
              "        text-align: right;\n",
              "    }\n",
              "</style>\n",
              "<table border=\"1\" class=\"dataframe\">\n",
              "  <thead>\n",
              "    <tr style=\"text-align: right;\">\n",
              "      <th></th>\n",
              "      <th>Darija</th>\n",
              "      <th>English</th>\n",
              "      <th>MSA</th>\n",
              "    </tr>\n",
              "  </thead>\n",
              "  <tbody>\n",
              "    <tr>\n",
              "      <th>0</th>\n",
              "      <td>واخا عندي السخانة والتهاب الحلق، ولكن حاس بالل...</td>\n",
              "      <td>\"Apart from the fever and a sore throat, I fee...</td>\n",
              "      <td>\"بصرف النظر عن الحمى وألم الحلق ، أشعر أنني في...</td>\n",
              "    </tr>\n",
              "    <tr>\n",
              "      <th>1</th>\n",
              "      <td>الاستناد لهاذ الحفرية كيعني أن الانشقاق وقع بك...</td>\n",
              "      <td>\"Based on this fossil, that means the split is...</td>\n",
              "      <td>\"بناءً على هذا الحفري ، هذا يعني أن الانقسام أ...</td>\n",
              "    </tr>\n",
              "    <tr>\n",
              "      <th>2</th>\n",
              "      <td>وقال السيد كوستيلو: \"يلا ولات القضية تجارية، خ...</td>\n",
              "      <td>\"If it becomes commercial, we should have it. ...</td>\n",
              "      <td>\"إذا أصبح تجاريًا ، يجب أن نحصل عليه ، وهذا يع...</td>\n",
              "    </tr>\n",
              "    <tr>\n",
              "      <th>3</th>\n",
              "      <td>قال المتحدث باسم الحكومة: \"من المهم دابا سواءً...</td>\n",
              "      <td>\"It is now important from both a public health...</td>\n",
              "      <td>\"من المهم الآن من وجهة نظر الصحة العامة والعدا...</td>\n",
              "    </tr>\n",
              "  </tbody>\n",
              "</table>\n",
              "</div>"
            ],
            "text/plain": [
              "                                              Darija  \\\n",
              "0  واخا عندي السخانة والتهاب الحلق، ولكن حاس بالل...   \n",
              "1  الاستناد لهاذ الحفرية كيعني أن الانشقاق وقع بك...   \n",
              "2  وقال السيد كوستيلو: \"يلا ولات القضية تجارية، خ...   \n",
              "3  قال المتحدث باسم الحكومة: \"من المهم دابا سواءً...   \n",
              "\n",
              "                                             English  \\\n",
              "0  \"Apart from the fever and a sore throat, I fee...   \n",
              "1  \"Based on this fossil, that means the split is...   \n",
              "2  \"If it becomes commercial, we should have it. ...   \n",
              "3  \"It is now important from both a public health...   \n",
              "\n",
              "                                                 MSA  \n",
              "0  \"بصرف النظر عن الحمى وألم الحلق ، أشعر أنني في...  \n",
              "1  \"بناءً على هذا الحفري ، هذا يعني أن الانقسام أ...  \n",
              "2  \"إذا أصبح تجاريًا ، يجب أن نحصل عليه ، وهذا يع...  \n",
              "3  \"من المهم الآن من وجهة نظر الصحة العامة والعدا...  "
            ]
          },
          "execution_count": 3,
          "metadata": {},
          "output_type": "execute_result"
        }
      ],
      "source": [
        "augmented_dataset = pd.read_csv('datasets/Augmented_dataset.csv')\n",
        "augmented_dataset.head(4)"
      ]
    },
    {
      "cell_type": "code",
      "execution_count": 4,
      "metadata": {
        "colab": {
          "base_uri": "https://localhost:8080/",
          "height": 262
        },
        "id": "fic9qGPSzaqk",
        "outputId": "d3d717e6-a11c-4c32-844c-7f27aebcf9be"
      },
      "outputs": [
        {
          "data": {
            "text/html": [
              "<div>\n",
              "<style scoped>\n",
              "    .dataframe tbody tr th:only-of-type {\n",
              "        vertical-align: middle;\n",
              "    }\n",
              "\n",
              "    .dataframe tbody tr th {\n",
              "        vertical-align: top;\n",
              "    }\n",
              "\n",
              "    .dataframe thead th {\n",
              "        text-align: right;\n",
              "    }\n",
              "</style>\n",
              "<table border=\"1\" class=\"dataframe\">\n",
              "  <thead>\n",
              "    <tr style=\"text-align: right;\">\n",
              "      <th></th>\n",
              "      <th>idx</th>\n",
              "      <th>English</th>\n",
              "      <th>Darija</th>\n",
              "      <th>MSA</th>\n",
              "      <th>Checkbox</th>\n",
              "      <th>Darija corrected</th>\n",
              "      <th>Observations</th>\n",
              "    </tr>\n",
              "  </thead>\n",
              "  <tbody>\n",
              "    <tr>\n",
              "      <th>0</th>\n",
              "      <td>0</td>\n",
              "      <td>They're hiding something, I'm sure!</td>\n",
              "      <td>هوما مخبّيين شي حاجة, أنا متيقّن!</td>\n",
              "      <td>إنهم يخفون شيئًا، أنا متأكد!</td>\n",
              "      <td>True</td>\n",
              "      <td>NaN</td>\n",
              "      <td>NaN</td>\n",
              "    </tr>\n",
              "    <tr>\n",
              "      <th>1</th>\n",
              "      <td>1</td>\n",
              "      <td>It's obvious they're trying to keep their cool.</td>\n",
              "      <td>باينا هوما تايحاولو إبقاو مبرّدين.</td>\n",
              "      <td>من الواضح أنهم يحاولون الحفاظ على هدوئهم.</td>\n",
              "      <td>True</td>\n",
              "      <td>NaN</td>\n",
              "      <td>NaN</td>\n",
              "    </tr>\n",
              "    <tr>\n",
              "      <th>2</th>\n",
              "      <td>2</td>\n",
              "      <td>the hotels don't seem very comfortable.</td>\n",
              "      <td>لوطيلات مابايناش فيهوم موريحين بزّاف.</td>\n",
              "      <td>الفنادق لا تبدو مريحة جدًا.</td>\n",
              "      <td>True</td>\n",
              "      <td>NaN</td>\n",
              "      <td>NaN</td>\n",
              "    </tr>\n",
              "    <tr>\n",
              "      <th>3</th>\n",
              "      <td>3</td>\n",
              "      <td>he is probably about to be laid off by head of...</td>\n",
              "      <td>غاليبان غايجرّيو عليه من لخدما!</td>\n",
              "      <td>من المحتمل أن يتم تسريحه من قبل الإدارة العليا!</td>\n",
              "      <td>False</td>\n",
              "      <td>غاليبان غايجرّيو عليه من اللفوق</td>\n",
              "      <td>NaN</td>\n",
              "    </tr>\n",
              "  </tbody>\n",
              "</table>\n",
              "</div>"
            ],
            "text/plain": [
              "   idx                                            English  \\\n",
              "0    0                They're hiding something, I'm sure!   \n",
              "1    1    It's obvious they're trying to keep their cool.   \n",
              "2    2            the hotels don't seem very comfortable.   \n",
              "3    3  he is probably about to be laid off by head of...   \n",
              "\n",
              "                                  Darija  \\\n",
              "0      هوما مخبّيين شي حاجة, أنا متيقّن!   \n",
              "1     باينا هوما تايحاولو إبقاو مبرّدين.   \n",
              "2  لوطيلات مابايناش فيهوم موريحين بزّاف.   \n",
              "3        غاليبان غايجرّيو عليه من لخدما!   \n",
              "\n",
              "                                               MSA  Checkbox  \\\n",
              "0                     إنهم يخفون شيئًا، أنا متأكد!      True   \n",
              "1        من الواضح أنهم يحاولون الحفاظ على هدوئهم.      True   \n",
              "2                      الفنادق لا تبدو مريحة جدًا.      True   \n",
              "3  من المحتمل أن يتم تسريحه من قبل الإدارة العليا!     False   \n",
              "\n",
              "                  Darija corrected Observations  \n",
              "0                              NaN          NaN  \n",
              "1                              NaN          NaN  \n",
              "2                              NaN          NaN  \n",
              "3  غاليبان غايجرّيو عليه من اللفوق          NaN  "
            ]
          },
          "execution_count": 4,
          "metadata": {},
          "output_type": "execute_result"
        }
      ],
      "source": [
        "original_dataset = pd.read_csv('datasets/Original_dataset.csv')\n",
        "original_dataset.head(4)"
      ]
    },
    {
      "cell_type": "code",
      "execution_count": 5,
      "metadata": {
        "id": "xx-kKA3Xzd7G"
      },
      "outputs": [],
      "source": [
        "def get_darija(row):\n",
        "  if not pd.isnull(row['Darija corrected']):\n",
        "    return row['Darija corrected']\n",
        "  else:\n",
        "    return row['Darija']"
      ]
    },
    {
      "cell_type": "code",
      "execution_count": 6,
      "metadata": {
        "colab": {
          "base_uri": "https://localhost:8080/",
          "height": 175
        },
        "id": "CnuHWMF1zlTs",
        "outputId": "9c3199fd-1ca2-43a2-b568-33ff7f086c30"
      },
      "outputs": [
        {
          "data": {
            "text/html": [
              "<div>\n",
              "<style scoped>\n",
              "    .dataframe tbody tr th:only-of-type {\n",
              "        vertical-align: middle;\n",
              "    }\n",
              "\n",
              "    .dataframe tbody tr th {\n",
              "        vertical-align: top;\n",
              "    }\n",
              "\n",
              "    .dataframe thead th {\n",
              "        text-align: right;\n",
              "    }\n",
              "</style>\n",
              "<table border=\"1\" class=\"dataframe\">\n",
              "  <thead>\n",
              "    <tr style=\"text-align: right;\">\n",
              "      <th></th>\n",
              "      <th>Darija</th>\n",
              "      <th>English</th>\n",
              "      <th>MSA</th>\n",
              "    </tr>\n",
              "  </thead>\n",
              "  <tbody>\n",
              "    <tr>\n",
              "      <th>0</th>\n",
              "      <td>هوما مخبّيين شي حاجة, أنا متيقّن!</td>\n",
              "      <td>They're hiding something, I'm sure!</td>\n",
              "      <td>إنهم يخفون شيئًا، أنا متأكد!</td>\n",
              "    </tr>\n",
              "    <tr>\n",
              "      <th>1</th>\n",
              "      <td>باينا هوما تايحاولو إبقاو مبرّدين.</td>\n",
              "      <td>It's obvious they're trying to keep their cool.</td>\n",
              "      <td>من الواضح أنهم يحاولون الحفاظ على هدوئهم.</td>\n",
              "    </tr>\n",
              "    <tr>\n",
              "      <th>2</th>\n",
              "      <td>لوطيلات مابايناش فيهوم موريحين بزّاف.</td>\n",
              "      <td>the hotels don't seem very comfortable.</td>\n",
              "      <td>الفنادق لا تبدو مريحة جدًا.</td>\n",
              "    </tr>\n",
              "    <tr>\n",
              "      <th>3</th>\n",
              "      <td>غاليبان غايجرّيو عليه من اللفوق</td>\n",
              "      <td>he is probably about to be laid off by head of...</td>\n",
              "      <td>من المحتمل أن يتم تسريحه من قبل الإدارة العليا!</td>\n",
              "    </tr>\n",
              "  </tbody>\n",
              "</table>\n",
              "</div>"
            ],
            "text/plain": [
              "                                  Darija  \\\n",
              "0      هوما مخبّيين شي حاجة, أنا متيقّن!   \n",
              "1     باينا هوما تايحاولو إبقاو مبرّدين.   \n",
              "2  لوطيلات مابايناش فيهوم موريحين بزّاف.   \n",
              "3        غاليبان غايجرّيو عليه من اللفوق   \n",
              "\n",
              "                                             English  \\\n",
              "0                They're hiding something, I'm sure!   \n",
              "1    It's obvious they're trying to keep their cool.   \n",
              "2            the hotels don't seem very comfortable.   \n",
              "3  he is probably about to be laid off by head of...   \n",
              "\n",
              "                                               MSA  \n",
              "0                     إنهم يخفون شيئًا، أنا متأكد!  \n",
              "1        من الواضح أنهم يحاولون الحفاظ على هدوئهم.  \n",
              "2                      الفنادق لا تبدو مريحة جدًا.  \n",
              "3  من المحتمل أن يتم تسريحه من قبل الإدارة العليا!  "
            ]
          },
          "execution_count": 6,
          "metadata": {},
          "output_type": "execute_result"
        }
      ],
      "source": [
        "original_dataset['Darija'] = original_dataset.apply(get_darija, axis=1)\n",
        "original_dataset = original_dataset[['Darija', 'English', 'MSA']]\n",
        "original_dataset.head(4)"
      ]
    },
    {
      "cell_type": "code",
      "execution_count": 7,
      "metadata": {
        "colab": {
          "base_uri": "https://localhost:8080/",
          "height": 476
        },
        "id": "53OsYZpEzscG",
        "outputId": "c9d0b18d-bd04-4632-a8f7-843c1080f849"
      },
      "outputs": [
        {
          "data": {
            "text/html": [
              "<div>\n",
              "<style scoped>\n",
              "    .dataframe tbody tr th:only-of-type {\n",
              "        vertical-align: middle;\n",
              "    }\n",
              "\n",
              "    .dataframe tbody tr th {\n",
              "        vertical-align: top;\n",
              "    }\n",
              "\n",
              "    .dataframe thead th {\n",
              "        text-align: right;\n",
              "    }\n",
              "</style>\n",
              "<table border=\"1\" class=\"dataframe\">\n",
              "  <thead>\n",
              "    <tr style=\"text-align: right;\">\n",
              "      <th></th>\n",
              "      <th>Darija</th>\n",
              "      <th>English</th>\n",
              "      <th>MSA</th>\n",
              "    </tr>\n",
              "  </thead>\n",
              "  <tbody>\n",
              "    <tr>\n",
              "      <th>0</th>\n",
              "      <td>هوما مخبّيين شي حاجة, أنا متيقّن!</td>\n",
              "      <td>They're hiding something, I'm sure!</td>\n",
              "      <td>إنهم يخفون شيئًا، أنا متأكد!</td>\n",
              "    </tr>\n",
              "    <tr>\n",
              "      <th>1</th>\n",
              "      <td>باينا هوما تايحاولو إبقاو مبرّدين.</td>\n",
              "      <td>It's obvious they're trying to keep their cool.</td>\n",
              "      <td>من الواضح أنهم يحاولون الحفاظ على هدوئهم.</td>\n",
              "    </tr>\n",
              "    <tr>\n",
              "      <th>2</th>\n",
              "      <td>لوطيلات مابايناش فيهوم موريحين بزّاف.</td>\n",
              "      <td>the hotels don't seem very comfortable.</td>\n",
              "      <td>الفنادق لا تبدو مريحة جدًا.</td>\n",
              "    </tr>\n",
              "    <tr>\n",
              "      <th>3</th>\n",
              "      <td>غاليبان غايجرّيو عليه من اللفوق</td>\n",
              "      <td>he is probably about to be laid off by head of...</td>\n",
              "      <td>من المحتمل أن يتم تسريحه من قبل الإدارة العليا!</td>\n",
              "    </tr>\n",
              "    <tr>\n",
              "      <th>4</th>\n",
              "      <td>طابعان راه مكتاءب!</td>\n",
              "      <td>Of course he's depressive!</td>\n",
              "      <td>بالطبع هو مكتئب!</td>\n",
              "    </tr>\n",
              "    <tr>\n",
              "      <th>...</th>\n",
              "      <td>...</td>\n",
              "      <td>...</td>\n",
              "      <td>...</td>\n",
              "    </tr>\n",
              "    <tr>\n",
              "      <th>6022</th>\n",
              "      <td>الشركة نتاع التيليفون لمحلية ديالك خاصها تعطيك...</td>\n",
              "      <td>Your local telephone service provider should b...</td>\n",
              "      <td>يجب أن يكون مزود خدمة الهاتف المحلي قادرًا على...</td>\n",
              "    </tr>\n",
              "    <tr>\n",
              "      <th>6023</th>\n",
              "      <td>يقدم الغار نفسه، اللي بقي على مر العصور، صورة ...</td>\n",
              "      <td>he cave itself, which survived the times, give...</td>\n",
              "      <td>الكهف نفسه ، الذي نجا من العصور ، يعطي صورة حي...</td>\n",
              "    </tr>\n",
              "    <tr>\n",
              "      <th>6024</th>\n",
              "      <td>فأواخر العصور الوسطى، بدات أوروبّا كتطور فراسه...</td>\n",
              "      <td>towards the end of the Middle Ages western Eur...</td>\n",
              "      <td>نحو نهاية العصور الوسطى ، بدأت أوروبا الغربية ...</td>\n",
              "    </tr>\n",
              "    <tr>\n",
              "      <th>6025</th>\n",
              "      <td>إيزمير هي ثالث أكبر مدينة فتركيا بعدد سكان تيو...</td>\n",
              "      <td>İzmir is the third largest city in Turkey with...</td>\n",
              "      <td>إزمير هي ثالث أكبر مدينة في تركيا ، ويبلغ عدد ...</td>\n",
              "    </tr>\n",
              "    <tr>\n",
              "      <th>6026</th>\n",
              "      <td>إيغمي و مككورد (1998) عرفو \"المشاركة الشخصية\" ...</td>\n",
              "      <td>“Personal involvement” and “continuing relatio...</td>\n",
              "      <td>تم تحديد \"المشاركة الشخصية\" و \"العلاقات المستم...</td>\n",
              "    </tr>\n",
              "  </tbody>\n",
              "</table>\n",
              "<p>12027 rows × 3 columns</p>\n",
              "</div>"
            ],
            "text/plain": [
              "                                                 Darija  \\\n",
              "0                     هوما مخبّيين شي حاجة, أنا متيقّن!   \n",
              "1                    باينا هوما تايحاولو إبقاو مبرّدين.   \n",
              "2                 لوطيلات مابايناش فيهوم موريحين بزّاف.   \n",
              "3                       غاليبان غايجرّيو عليه من اللفوق   \n",
              "4                                    طابعان راه مكتاءب!   \n",
              "...                                                 ...   \n",
              "6022  الشركة نتاع التيليفون لمحلية ديالك خاصها تعطيك...   \n",
              "6023  يقدم الغار نفسه، اللي بقي على مر العصور، صورة ...   \n",
              "6024  فأواخر العصور الوسطى، بدات أوروبّا كتطور فراسه...   \n",
              "6025  إيزمير هي ثالث أكبر مدينة فتركيا بعدد سكان تيو...   \n",
              "6026  إيغمي و مككورد (1998) عرفو \"المشاركة الشخصية\" ...   \n",
              "\n",
              "                                                English  \\\n",
              "0                   They're hiding something, I'm sure!   \n",
              "1       It's obvious they're trying to keep their cool.   \n",
              "2               the hotels don't seem very comfortable.   \n",
              "3     he is probably about to be laid off by head of...   \n",
              "4                            Of course he's depressive!   \n",
              "...                                                 ...   \n",
              "6022  Your local telephone service provider should b...   \n",
              "6023  he cave itself, which survived the times, give...   \n",
              "6024  towards the end of the Middle Ages western Eur...   \n",
              "6025  İzmir is the third largest city in Turkey with...   \n",
              "6026  “Personal involvement” and “continuing relatio...   \n",
              "\n",
              "                                                    MSA  \n",
              "0                          إنهم يخفون شيئًا، أنا متأكد!  \n",
              "1             من الواضح أنهم يحاولون الحفاظ على هدوئهم.  \n",
              "2                           الفنادق لا تبدو مريحة جدًا.  \n",
              "3       من المحتمل أن يتم تسريحه من قبل الإدارة العليا!  \n",
              "4                                      بالطبع هو مكتئب!  \n",
              "...                                                 ...  \n",
              "6022  يجب أن يكون مزود خدمة الهاتف المحلي قادرًا على...  \n",
              "6023  الكهف نفسه ، الذي نجا من العصور ، يعطي صورة حي...  \n",
              "6024  نحو نهاية العصور الوسطى ، بدأت أوروبا الغربية ...  \n",
              "6025  إزمير هي ثالث أكبر مدينة في تركيا ، ويبلغ عدد ...  \n",
              "6026  تم تحديد \"المشاركة الشخصية\" و \"العلاقات المستم...  \n",
              "\n",
              "[12027 rows x 3 columns]"
            ]
          },
          "execution_count": 7,
          "metadata": {},
          "output_type": "execute_result"
        }
      ],
      "source": [
        "dataset = pd.concat([original_dataset, augmented_dataset], axis=0)\n",
        "dataset"
      ]
    },
    {
      "cell_type": "code",
      "execution_count": 8,
      "metadata": {
        "id": "r2lSVzgWz1a_"
      },
      "outputs": [],
      "source": [
        "dataset.to_csv('datasets/training_dataset.csv')"
      ]
    },
    {
      "cell_type": "code",
      "execution_count": null,
      "metadata": {
        "id": "5QqPJPF70CMG"
      },
      "outputs": [],
      "source": []
    }
  ],
  "metadata": {
    "colab": {
      "provenance": []
    },
    "kernelspec": {
      "display_name": "Python 3",
      "name": "python3"
    },
    "language_info": {
      "codemirror_mode": {
        "name": "ipython",
        "version": 3
      },
      "file_extension": ".py",
      "mimetype": "text/x-python",
      "name": "python",
      "nbconvert_exporter": "python",
      "pygments_lexer": "ipython3",
      "version": "3.11.7"
    }
  },
  "nbformat": 4,
  "nbformat_minor": 0
}
